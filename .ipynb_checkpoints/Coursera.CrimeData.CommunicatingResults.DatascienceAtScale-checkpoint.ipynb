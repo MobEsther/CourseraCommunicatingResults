{
 "cells": [
  {
   "cell_type": "markdown",
   "metadata": {},
   "source": [
    "# Coursera - Analyzing criminal incident data "
   ]
  },
  {
   "cell_type": "markdown",
   "metadata": {},
   "source": [
    "## Install the RKernel"
   ]
  },
  {
   "cell_type": "code",
   "execution_count": null,
   "metadata": {
    "collapsed": true
   },
   "outputs": [],
   "source": [
    "IRkernel::installspec()"
   ]
  },
  {
   "cell_type": "markdown",
   "metadata": {},
   "source": [
    "## Load libraries"
   ]
  },
  {
   "cell_type": "code",
   "execution_count": 26,
   "metadata": {
    "collapsed": false
   },
   "outputs": [
    {
     "ename": "ERROR",
     "evalue": "Error in library(lubridate): there is no package called ‘lubridate’\n",
     "output_type": "error",
     "traceback": [
      "Error in library(lubridate): there is no package called ‘lubridate’\n"
     ]
    }
   ],
   "source": [
    "library(lubridate) \n",
    "library(ggplot2)"
   ]
  },
  {
   "cell_type": "markdown",
   "metadata": {},
   "source": [
    "## The questions that will be answered "
   ]
  },
  {
   "cell_type": "code",
   "execution_count": null,
   "metadata": {
    "collapsed": true
   },
   "outputs": [],
   "source": [
    "\n",
    "# For either city, how do incidents vary by time of day? \n",
    "# Which incidents are most common in the evening? \n",
    "# During what periods of the day are robberies most common?\n"
   ]
  },
  {
   "cell_type": "markdown",
   "metadata": {},
   "source": [
    "## Read the Data"
   ]
  },
  {
   "cell_type": "code",
   "execution_count": 69,
   "metadata": {
    "collapsed": false
   },
   "outputs": [],
   "source": [
    "san.data <- read.csv(\"assignment6/sanfrancisco_incidents_summer_2014.csv\")"
   ]
  },
  {
   "cell_type": "code",
   "execution_count": 94,
   "metadata": {
    "collapsed": false
   },
   "outputs": [
    {
     "data": {
      "text/html": [
       "<table>\n",
       "<thead><tr><th></th><th scope=col>Var1</th><th scope=col>Freq</th><th scope=col>new</th></tr></thead>\n",
       "<tbody>\n",
       "\t<tr><th scope=row>1</th><td>0</td><td>1381</td><td>889</td></tr>\n",
       "\t<tr><th scope=row>2</th><td>1</td><td>821</td><td>709</td></tr>\n",
       "\t<tr><th scope=row>3</th><td>2</td><td>654</td><td>680</td></tr>\n",
       "\t<tr><th scope=row>4</th><td>3</td><td>413</td><td>454</td></tr>\n",
       "\t<tr><th scope=row>5</th><td>4</td><td>245</td><td>431</td></tr>\n",
       "\t<tr><th scope=row>6</th><td>5</td><td>292</td><td>425</td></tr>\n",
       "</tbody>\n",
       "</table>\n"
      ],
      "text/latex": [
       "\\begin{tabular}{r|lll}\n",
       "  & Var1 & Freq & new\\\\\n",
       "\\hline\n",
       "\t1 & 0 & 1381 & 889\\\\\n",
       "\t2 & 1 & 821 & 709\\\\\n",
       "\t3 & 2 & 654 & 680\\\\\n",
       "\t4 & 3 & 413 & 454\\\\\n",
       "\t5 & 4 & 245 & 431\\\\\n",
       "\t6 & 5 & 292 & 425\\\\\n",
       "\\end{tabular}\n"
      ],
      "text/plain": [
       "  Var1 Freq new\n",
       "1    0 1381 889\n",
       "2    1  821 709\n",
       "3    2  654 680\n",
       "4    3  413 454\n",
       "5    4  245 431\n",
       "6    5  292 425"
      ]
     },
     "execution_count": 94,
     "metadata": {},
     "output_type": "execute_result"
    }
   ],
   "source": [
    "time.san <- san.data$Time\n",
    "kaas <- (strptime(time.san, \"%H:%M\"))\n",
    "timetable <- as.data.frame(table(kaas$hour))\n",
    "\n",
    "repData <- (seat.data$Date.Reported)\n",
    "time <- (strptime(repData, \"%m/%d/%Y %I:%M:%S %p\"))\n",
    "timetable$new <- table(time$hour)\n",
    "\n",
    "names(timetable.san) <- c(\"Hours\", \"Inc.San\", \"Inc.\")\n",
    "\n",
    "#names(time.table) <- c(\"Hours\", \"NumberOfIncidents\")\n",
    "\n",
    "#ggplot(timetable.san, aes(Hours)) + geom_line() + ggtitle(\"Plot of the number of incidents for each hour\") \n",
    "#p1\n",
    "\n",
    "#p <- ggplot(time.table, aes(Hours, NumberOfIncidents)) + geom_line() + ggtitle(\"Plot of the number of incidents for each hour\") \n",
    "#p + labs( xlab =\"Hours\", ylab = \"# Incidents\" )\n",
    "#p \n",
    "#timetable.san\n",
    "\n",
    "#ggplot(df, aes(x)) +                    # basic graphical object\n",
    " # geom_line(aes(y=y1), colour=\"red\") +  # first layer\n",
    "  #geom_line(aes(y=y2), colour=\"green\")"
   ]
  },
  {
   "cell_type": "code",
   "execution_count": 3,
   "metadata": {
    "collapsed": false
   },
   "outputs": [],
   "source": [
    "seat.data <- read.csv(\"assignment6/seattle_incidents_summer_2014.csv\")"
   ]
  },
  {
   "cell_type": "code",
   "execution_count": 90,
   "metadata": {
    "collapsed": false,
    "scrolled": true
   },
   "outputs": [
    {
     "data": {
      "text/html": [
       "<ol class=list-inline>\n",
       "\t<li>06/28/2015 10:31:00 AM</li>\n",
       "\t<li>06/24/2015 11:09:00 AM</li>\n",
       "\t<li>06/22/2015 09:22:00 AM</li>\n",
       "\t<li>06/21/2015 03:52:00 PM</li>\n",
       "\t<li>06/20/2015 11:59:00 AM</li>\n",
       "\t<li>06/19/2015 02:55:00 PM</li>\n",
       "</ol>\n"
      ],
      "text/latex": [
       "\\begin{enumerate*}\n",
       "\\item 06/28/2015 10:31:00 AM\n",
       "\\item 06/24/2015 11:09:00 AM\n",
       "\\item 06/22/2015 09:22:00 AM\n",
       "\\item 06/21/2015 03:52:00 PM\n",
       "\\item 06/20/2015 11:59:00 AM\n",
       "\\item 06/19/2015 02:55:00 PM\n",
       "\\end{enumerate*}\n"
      ],
      "text/markdown": [
       "1. 06/28/2015 10:31:00 AM\n",
       "2. 06/24/2015 11:09:00 AM\n",
       "3. 06/22/2015 09:22:00 AM\n",
       "4. 06/21/2015 03:52:00 PM\n",
       "5. 06/20/2015 11:59:00 AM\n",
       "6. 06/19/2015 02:55:00 PM\n",
       "\n",
       "\n"
      ],
      "text/plain": [
       "[1] 06/28/2015 10:31:00 AM 06/24/2015 11:09:00 AM 06/22/2015 09:22:00 AM\n",
       "[4] 06/21/2015 03:52:00 PM 06/20/2015 11:59:00 AM 06/19/2015 02:55:00 PM\n",
       "15766 Levels: 01/02/2015 11:12:00 AM ... 12/29/2014 11:43:00 AM"
      ]
     },
     "execution_count": 90,
     "metadata": {},
     "output_type": "execute_result"
    },
    {
     "name": "stderr",
     "output_type": "stream",
     "text": [
      "Don't know how to automatically pick scale for object of type data.frame. Defaulting to continuous.\n",
      "Don't know how to automatically pick scale for object of type uneval. Defaulting to continuous.\n"
     ]
    },
    {
     "ename": "ERROR",
     "evalue": "Error in as.data.frame.default(x[[i]], optional = TRUE, stringsAsFactors = stringsAsFactors): cannot coerce class \"\"uneval\"\" to a data.frame\n",
     "output_type": "error",
     "traceback": [
      "Error in as.data.frame.default(x[[i]], optional = TRUE, stringsAsFactors = stringsAsFactors): cannot coerce class \"\"uneval\"\" to a data.frame\n"
     ]
    },
    {
     "name": "stderr",
     "output_type": "stream",
     "text": [
      "Don't know how to automatically pick scale for object of type data.frame. Defaulting to continuous.\n",
      "Don't know how to automatically pick scale for object of type uneval. Defaulting to continuous.\n"
     ]
    },
    {
     "ename": "ERROR",
     "evalue": "Error in as.data.frame.default(x[[i]], optional = TRUE, stringsAsFactors = stringsAsFactors): cannot coerce class \"\"uneval\"\" to a data.frame\n",
     "output_type": "error",
     "traceback": [
      "Error in as.data.frame.default(x[[i]], optional = TRUE, stringsAsFactors = stringsAsFactors): cannot coerce class \"\"uneval\"\" to a data.frame\n"
     ]
    },
    {
     "ename": "ERROR",
     "evalue": "Error in file(con, \"rb\"): cannot open the connection\n",
     "output_type": "error",
     "traceback": [
      "Error in file(con, \"rb\"): cannot open the connection\n"
     ]
    },
    {
     "data": {
      "text/plain": [
       "plot without title"
      ]
     },
     "metadata": {
      "image/svg+xml": {
       "isolated": true
      }
     },
     "output_type": "display_data"
    }
   ],
   "source": []
  },
  {
   "cell_type": "code",
   "execution_count": 3,
   "metadata": {
    "collapsed": false
   },
   "outputs": [
    {
     "data": {
      "text/html": [
       "<table>\n",
       "<thead><tr><th></th><th scope=col>RMS.CDW.ID</th><th scope=col>General.Offense.Number</th><th scope=col>Offense.Code</th><th scope=col>Offense.Code.Extension</th><th scope=col>Offense.Type</th><th scope=col>Summary.Offense.Code</th><th scope=col>Summarized.Offense.Description</th><th scope=col>Date.Reported</th><th scope=col>Occurred.Date.or.Date.Range.Start</th><th scope=col>Occurred.Date.Range.End</th><th scope=col>Hundred.Block.Location</th><th scope=col>District.Sector</th><th scope=col>Zone.Beat</th><th scope=col>Census.Tract.2000</th><th scope=col>Longitude</th><th scope=col>Latitude</th><th scope=col>Location</th><th scope=col>Month</th><th scope=col>Year</th></tr></thead>\n",
       "<tbody>\n",
       "\t<tr><th scope=row>1</th><td>483839</td><td>2015218538</td><td>2202</td><td>0</td><td>BURGLARY-FORCE-RES</td><td>2200</td><td>BURGLARY</td><td>06/28/2015 10:31:00 AM</td><td>06/28/2014 10:31:00 AM</td><td>06/28/2015 10:31:00 AM</td><td>6XX BLOCK OF NW 74 ST</td><td>J</td><td>J2</td><td>2900.301</td><td>-122.3647</td><td>47.68252</td><td>(47.68252427, -122.364671996)</td><td>6</td><td>2014</td></tr>\n",
       "\t<tr><th scope=row>2</th><td>481252</td><td>2015213067</td><td>2610</td><td>0</td><td>FRAUD-IDENTITY THEFT</td><td>2600</td><td>FRAUD</td><td>06/24/2015 11:09:00 AM</td><td>06/01/2014 12:00:00 AM</td><td>06/24/2015 11:09:00 AM</td><td>23XX BLOCK OF 43 AV E</td><td>C</td><td>C2</td><td>6300.1</td><td>-122.2771</td><td>47.6399</td><td>(47.639900761, -122.277080248)</td><td>6</td><td>2014</td></tr>\n",
       "\t<tr><th scope=row>3</th><td>481375</td><td>2015210301</td><td>2316</td><td>0</td><td>THEFT-MAIL</td><td>2300</td><td>MAIL THEFT</td><td>06/22/2015 09:22:00 AM</td><td>08/31/2014 09:00:00 AM</td><td></td><td>81XX BLOCK OF 11 AV SW</td><td>F</td><td>F3</td><td>11300.5</td><td>-122.3493</td><td>47.52923</td><td>(47.529232299, -122.349312181)</td><td>8</td><td>2014</td></tr>\n",
       "\t<tr><th scope=row>4</th><td>481690</td><td>2015209327</td><td>2599</td><td>0</td><td>COUNTERFEIT</td><td>2500</td><td>COUNTERFEIT</td><td>06/21/2015 03:52:00 PM</td><td>06/20/2014 01:38:00 PM</td><td></td><td>6XX BLOCK OF PINE ST</td><td>M</td><td>M2</td><td>8200.1</td><td>-122.3348</td><td>47.61237</td><td>(47.612368448, -122.334817763)</td><td>6</td><td>2014</td></tr>\n",
       "\t<tr><th scope=row>5</th><td>478198</td><td>2015207880</td><td>2399</td><td>3</td><td>THEFT-OTH</td><td>2300</td><td>OTHER PROPERTY</td><td>06/20/2015 11:59:00 AM</td><td>06/01/2014 11:59:00 AM</td><td>11/01/2014 12:00:00 PM</td><td>77XX BLOCK OF SUNNYSIDE AV N</td><td>J</td><td>J3</td><td>2700.202</td><td>-122.3294</td><td>47.68596</td><td>(47.685959879, -122.329378505)</td><td>6</td><td>2014</td></tr>\n",
       "\t<tr><th scope=row>6</th><td>480485</td><td>2015904103</td><td>2308</td><td>0</td><td>THEFT-BUILDING</td><td>2300</td><td>OTHER PROPERTY</td><td>06/19/2015 02:55:00 PM</td><td>06/19/2014 02:45:00 PM</td><td>07/10/2014 02:45:00 PM</td><td>35XX BLOCK OF S FERDINAND ST</td><td>R</td><td>R3</td><td>10300.4</td><td>-122.2875</td><td>47.55785</td><td>(47.557854802, -122.287477902)</td><td>6</td><td>2014</td></tr>\n",
       "</tbody>\n",
       "</table>\n"
      ],
      "text/latex": [
       "\\begin{tabular}{r|lllllllllllllllllll}\n",
       "  & RMS.CDW.ID & General.Offense.Number & Offense.Code & Offense.Code.Extension & Offense.Type & Summary.Offense.Code & Summarized.Offense.Description & Date.Reported & Occurred.Date.or.Date.Range.Start & Occurred.Date.Range.End & Hundred.Block.Location & District.Sector & Zone.Beat & Census.Tract.2000 & Longitude & Latitude & Location & Month & Year\\\\\n",
       "\\hline\n",
       "\t1 & 483839 & 2015218538 & 2202 & 0 & BURGLARY-FORCE-RES & 2200 & BURGLARY & 06/28/2015 10:31:00 AM & 06/28/2014 10:31:00 AM & 06/28/2015 10:31:00 AM & 6XX BLOCK OF NW 74 ST & J & J2 & 2900.301 & -122.3647 & 47.68252 & (47.68252427, -122.364671996) & 6 & 2014\\\\\n",
       "\t2 & 481252 & 2015213067 & 2610 & 0 & FRAUD-IDENTITY THEFT & 2600 & FRAUD & 06/24/2015 11:09:00 AM & 06/01/2014 12:00:00 AM & 06/24/2015 11:09:00 AM & 23XX BLOCK OF 43 AV E & C & C2 & 6300.1 & -122.2771 & 47.6399 & (47.639900761, -122.277080248) & 6 & 2014\\\\\n",
       "\t3 & 481375 & 2015210301 & 2316 & 0 & THEFT-MAIL & 2300 & MAIL THEFT & 06/22/2015 09:22:00 AM & 08/31/2014 09:00:00 AM &  & 81XX BLOCK OF 11 AV SW & F & F3 & 11300.5 & -122.3493 & 47.52923 & (47.529232299, -122.349312181) & 8 & 2014\\\\\n",
       "\t4 & 481690 & 2015209327 & 2599 & 0 & COUNTERFEIT & 2500 & COUNTERFEIT & 06/21/2015 03:52:00 PM & 06/20/2014 01:38:00 PM &  & 6XX BLOCK OF PINE ST & M & M2 & 8200.1 & -122.3348 & 47.61237 & (47.612368448, -122.334817763) & 6 & 2014\\\\\n",
       "\t5 & 478198 & 2015207880 & 2399 & 3 & THEFT-OTH & 2300 & OTHER PROPERTY & 06/20/2015 11:59:00 AM & 06/01/2014 11:59:00 AM & 11/01/2014 12:00:00 PM & 77XX BLOCK OF SUNNYSIDE AV N & J & J3 & 2700.202 & -122.3294 & 47.68596 & (47.685959879, -122.329378505) & 6 & 2014\\\\\n",
       "\t6 & 480485 & 2015904103 & 2308 & 0 & THEFT-BUILDING & 2300 & OTHER PROPERTY & 06/19/2015 02:55:00 PM & 06/19/2014 02:45:00 PM & 07/10/2014 02:45:00 PM & 35XX BLOCK OF S FERDINAND ST & R & R3 & 10300.4 & -122.2875 & 47.55785 & (47.557854802, -122.287477902) & 6 & 2014\\\\\n",
       "\\end{tabular}\n"
      ],
      "text/plain": [
       "  RMS.CDW.ID General.Offense.Number Offense.Code Offense.Code.Extension\n",
       "1     483839             2015218538         2202                      0\n",
       "2     481252             2015213067         2610                      0\n",
       "3     481375             2015210301         2316                      0\n",
       "4     481690             2015209327         2599                      0\n",
       "5     478198             2015207880         2399                      3\n",
       "6     480485             2015904103         2308                      0\n",
       "          Offense.Type Summary.Offense.Code Summarized.Offense.Description\n",
       "1   BURGLARY-FORCE-RES                 2200                       BURGLARY\n",
       "2 FRAUD-IDENTITY THEFT                 2600                          FRAUD\n",
       "3           THEFT-MAIL                 2300                     MAIL THEFT\n",
       "4          COUNTERFEIT                 2500                    COUNTERFEIT\n",
       "5            THEFT-OTH                 2300                 OTHER PROPERTY\n",
       "6       THEFT-BUILDING                 2300                 OTHER PROPERTY\n",
       "           Date.Reported Occurred.Date.or.Date.Range.Start\n",
       "1 06/28/2015 10:31:00 AM            06/28/2014 10:31:00 AM\n",
       "2 06/24/2015 11:09:00 AM            06/01/2014 12:00:00 AM\n",
       "3 06/22/2015 09:22:00 AM            08/31/2014 09:00:00 AM\n",
       "4 06/21/2015 03:52:00 PM            06/20/2014 01:38:00 PM\n",
       "5 06/20/2015 11:59:00 AM            06/01/2014 11:59:00 AM\n",
       "6 06/19/2015 02:55:00 PM            06/19/2014 02:45:00 PM\n",
       "  Occurred.Date.Range.End       Hundred.Block.Location District.Sector\n",
       "1  06/28/2015 10:31:00 AM        6XX BLOCK OF NW 74 ST               J\n",
       "2  06/24/2015 11:09:00 AM        23XX BLOCK OF 43 AV E               C\n",
       "3                               81XX BLOCK OF 11 AV SW               F\n",
       "4                                 6XX BLOCK OF PINE ST               M\n",
       "5  11/01/2014 12:00:00 PM 77XX BLOCK OF SUNNYSIDE AV N               J\n",
       "6  07/10/2014 02:45:00 PM 35XX BLOCK OF S FERDINAND ST               R\n",
       "  Zone.Beat Census.Tract.2000 Longitude Latitude                       Location\n",
       "1        J2          2900.301 -122.3647 47.68252  (47.68252427, -122.364671996)\n",
       "2        C2          6300.100 -122.2771 47.63990 (47.639900761, -122.277080248)\n",
       "3        F3         11300.501 -122.3493 47.52923 (47.529232299, -122.349312181)\n",
       "4        M2          8200.100 -122.3348 47.61237 (47.612368448, -122.334817763)\n",
       "5        J3          2700.202 -122.3294 47.68596 (47.685959879, -122.329378505)\n",
       "6        R3         10300.401 -122.2875 47.55785 (47.557854802, -122.287477902)\n",
       "  Month Year\n",
       "1     6 2014\n",
       "2     6 2014\n",
       "3     8 2014\n",
       "4     6 2014\n",
       "5     6 2014\n",
       "6     6 2014"
      ]
     },
     "execution_count": 3,
     "metadata": {},
     "output_type": "execute_result"
    }
   ],
   "source": [
    "head(seat.data)"
   ]
  },
  {
   "cell_type": "code",
   "execution_count": null,
   "metadata": {
    "collapsed": true
   },
   "outputs": [],
   "source": []
  },
  {
   "cell_type": "code",
   "execution_count": null,
   "metadata": {
    "collapsed": true
   },
   "outputs": [],
   "source": [
    "ggplot(seat.data, aes(Date, Views)) + geom_line() +\n",
    "  scale_x_date(format = \"%b-%Y\") + xlab(\"\") + ylab(\"Daily Views\")"
   ]
  },
  {
   "cell_type": "code",
   "execution_count": null,
   "metadata": {
    "collapsed": false
   },
   "outputs": [],
   "source": [
    "head(san.data)"
   ]
  },
  {
   "cell_type": "code",
   "execution_count": null,
   "metadata": {
    "collapsed": true
   },
   "outputs": [],
   "source": []
  }
 ],
 "metadata": {
  "kernelspec": {
   "display_name": "R",
   "language": "R",
   "name": "ir"
  },
  "language_info": {
   "codemirror_mode": "r",
   "file_extension": ".r",
   "mimetype": "text/x-r-source",
   "name": "R",
   "pygments_lexer": "r",
   "version": "3.2.2"
  }
 },
 "nbformat": 4,
 "nbformat_minor": 0
}
