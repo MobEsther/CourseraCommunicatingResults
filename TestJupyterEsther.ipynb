{
 "cells": [
  {
   "cell_type": "code",
   "execution_count": 4,
   "metadata": {
    "collapsed": false
   },
   "outputs": [
    {
     "name": "stderr",
     "output_type": "stream",
     "text": [
      "Installing packages into ‘/Users/eweusthof/Library/R/3.2/library’\n",
      "(as ‘lib’ is unspecified)\n",
      "Warning message:\n",
      "In install.packages(c(\"rzmq\", \"repr\", \"IRkernel\", \"IRdisplay\"), : installation of package ‘rzmq’ had non-zero exit statusWarning message:\n",
      "In install.packages(c(\"rzmq\", \"repr\", \"IRkernel\", \"IRdisplay\"), : installation of package ‘IRkernel’ had non-zero exit status"
     ]
    },
    {
     "name": "stdout",
     "output_type": "stream",
     "text": [
      "\n",
      "The downloaded source packages are in\n",
      "\t‘/private/var/folders/mj/1pd8v_xx3gz7vlkz3d90xypr0000gn/T/RtmpnipFzn/downloaded_packages’\n"
     ]
    }
   ],
   "source": [
    "install.packages(c('rzmq','repr','IRkernel','IRdisplay'),\n",
    "                 repos = c('http://irkernel.github.io/', getOption('repos')))"
   ]
  },
  {
   "cell_type": "code",
   "execution_count": 5,
   "metadata": {
    "collapsed": false
   },
   "outputs": [
    {
     "name": "stderr",
     "output_type": "stream",
     "text": [
      "Warning message:\n",
      "In r$IRkernel <- \"http://irkernel.github.io/\": Coercing LHS to a list"
     ]
    }
   ],
   "source": [
    "r <- getOption('repos')\n",
    "r$IRkernel <- 'http://irkernel.github.io/'\n",
    "options(repos = r)"
   ]
  },
  {
   "cell_type": "code",
   "execution_count": 7,
   "metadata": {
    "collapsed": true
   },
   "outputs": [],
   "source": [
    "IRkernel::installspec()\n"
   ]
  },
  {
   "cell_type": "code",
   "execution_count": null,
   "metadata": {
    "collapsed": true
   },
   "outputs": [],
   "source": []
  }
 ],
 "metadata": {
  "kernelspec": {
   "display_name": "R",
   "language": "R",
   "name": "ir"
  },
  "language_info": {
   "codemirror_mode": "r",
   "file_extension": ".r",
   "mimetype": "text/x-r-source",
   "name": "R",
   "pygments_lexer": "r",
   "version": "3.2.2"
  }
 },
 "nbformat": 4,
 "nbformat_minor": 0
}
