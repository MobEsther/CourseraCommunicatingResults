{
 "cells": [
  {
   "cell_type": "markdown",
   "metadata": {},
   "source": [
    "## Install the RKernel"
   ]
  },
  {
   "cell_type": "code",
   "execution_count": 2,
   "metadata": {
    "collapsed": false
   },
   "outputs": [
    {
     "name": "stderr",
     "output_type": "stream",
     "text": [
      "Installing packages into ‘/Users/eweusthof/Library/R/3.2/library’\n",
      "(as ‘lib’ is unspecified)\n",
      "Warning message:\n",
      "In install.packages(c(\"rzmq\", \"repr\", \"IRkernel\", \"IRdisplay\"), : installation of package ‘rzmq’ had non-zero exit statusWarning message:\n",
      "In install.packages(c(\"rzmq\", \"repr\", \"IRkernel\", \"IRdisplay\"), : installation of package ‘IRkernel’ had non-zero exit status"
     ]
    },
    {
     "name": "stdout",
     "output_type": "stream",
     "text": [
      "\n",
      "The downloaded source packages are in\n",
      "\t‘/private/var/folders/mj/1pd8v_xx3gz7vlkz3d90xypr0000gn/T/RtmpxuFqf4/downloaded_packages’\n"
     ]
    }
   ],
   "source": [
    "install.packages(c('rzmq','repr','IRkernel','IRdisplay'),\n",
    "                  repos = c('http://irkernel.github.io/',     \n",
    "                  getOption('repos')),\n",
    "                  type = 'source')"
   ]
  },
  {
   "cell_type": "code",
   "execution_count": 1,
   "metadata": {
    "collapsed": true
   },
   "outputs": [],
   "source": [
    "IRkernel::installspec()\n"
   ]
  },
  {
   "cell_type": "markdown",
   "metadata": {},
   "source": [
    "## What type of question can be answered? "
   ]
  },
  {
   "cell_type": "code",
   "execution_count": null,
   "metadata": {
    "collapsed": true
   },
   "outputs": [],
   "source": [
    "#For either city, how do incidents vary by time of day? Which incidents are most common in the evening? \n",
    "# During what periods of the day are robberies most common?\n",
    "\n",
    "#For either city, how do incidents vary by neighborhood? Which incidents are most common in the city center? \n",
    "# In what areas or neighborhoods are robberies or thefts most common?\n",
    "\n",
    "#For either city, how do incidents vary month to month in the Summer 2014 dataset?\n",
    "\n",
    "#For either city, which incident types tend to correlate with each other on a day-by-day basis?\n",
    "\n",
    "#Advanced What can we infer broadly about the differences in crime patterns between Seattle and San Francisco? \n",
    "#Does one city tend to have more crime than the other, per capita? \n",
    "# Do the relative frequencies of types of incidents change materially between the two cities? (NOTE: The two datasets do not have the same schema, so comparisons will require some work and some assumptions. This will require extra work, but you will be working at the forefront of what is known!)\n",
    "\n",
    "#Advanced For either city, do certain crimes correlate with environmental factors such as temperature? (To answer this kind of question, you will need to identify and use external data sources!)"
   ]
  },
  {
   "cell_type": "code",
   "execution_count": null,
   "metadata": {
    "collapsed": true
   },
   "outputs": [],
   "source": []
  },
  {
   "cell_type": "code",
   "execution_count": null,
   "metadata": {
    "collapsed": true
   },
   "outputs": [],
   "source": []
  }
 ],
 "metadata": {
  "kernelspec": {
   "display_name": "R",
   "language": "R",
   "name": "ir"
  },
  "language_info": {
   "codemirror_mode": "r",
   "file_extension": ".r",
   "mimetype": "text/x-r-source",
   "name": "R",
   "pygments_lexer": "r",
   "version": "3.2.2"
  }
 },
 "nbformat": 4,
 "nbformat_minor": 0
}
