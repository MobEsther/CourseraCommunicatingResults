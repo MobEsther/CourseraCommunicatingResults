{
 "cells": [
  {
   "cell_type": "markdown",
   "metadata": {},
   "source": [
    "# Coursera - Analyzing criminal incident data "
   ]
  },
  {
   "cell_type": "markdown",
   "metadata": {},
   "source": [
    "## Install the RKernel"
   ]
  },
  {
   "cell_type": "code",
   "execution_count": 2,
   "metadata": {
    "collapsed": false
   },
   "outputs": [
    {
     "name": "stderr",
     "output_type": "stream",
     "text": [
      "Installing packages into ‘/Users/eweusthof/Library/R/3.2/library’\n",
      "(as ‘lib’ is unspecified)\n",
      "Warning message:\n",
      "In install.packages(c(\"rzmq\", \"repr\", \"IRkernel\", \"IRdisplay\"), : installation of package ‘rzmq’ had non-zero exit statusWarning message:\n",
      "In install.packages(c(\"rzmq\", \"repr\", \"IRkernel\", \"IRdisplay\"), : installation of package ‘IRkernel’ had non-zero exit status"
     ]
    },
    {
     "name": "stdout",
     "output_type": "stream",
     "text": [
      "\n",
      "The downloaded source packages are in\n",
      "\t‘/private/var/folders/mj/1pd8v_xx3gz7vlkz3d90xypr0000gn/T/RtmpxuFqf4/downloaded_packages’\n"
     ]
    }
   ],
   "source": [
    "install.packages(c('rzmq','repr','IRkernel','IRdisplay'),\n",
    "                  repos = c('http://irkernel.github.io/',     \n",
    "                  getOption('repos')),\n",
    "                  type = 'source')"
   ]
  },
  {
   "cell_type": "code",
   "execution_count": 1,
   "metadata": {
    "collapsed": true
   },
   "outputs": [],
   "source": [
    "IRkernel::installspec()\n"
   ]
  },
  {
   "cell_type": "markdown",
   "metadata": {},
   "source": [
    "## What type of question can be answered? "
   ]
  },
  {
   "cell_type": "code",
   "execution_count": null,
   "metadata": {
    "collapsed": true
   },
   "outputs": [],
   "source": [
    "#For either city, how do incidents vary by time of day? Which incidents are most common in the evening? \n",
    "# During what periods of the day are robberies most common?\n",
    "\n",
    "#For either city, how do incidents vary by neighborhood? Which incidents are most common in the city center? \n",
    "# In what areas or neighborhoods are robberies or thefts most common?\n",
    "\n",
    "#For either city, how do incidents vary month to month in the Summer 2014 dataset?\n",
    "\n",
    "#For either city, which incident types tend to correlate with each other on a day-by-day basis?\n",
    "\n",
    "#Advanced What can we infer broadly about the differences in crime patterns between Seattle and San Francisco? \n",
    "#Does one city tend to have more crime than the other, per capita? \n",
    "# Do the relative frequencies of types of incidents change materially between the two cities? (NOTE: The two datasets do not have the same schema, so comparisons will require some work and some assumptions. This will require extra work, but you will be working at the forefront of what is known!)\n",
    "\n",
    "#Advanced For either city, do certain crimes correlate with environmental factors such as temperature? (To answer this kind of question, you will need to identify and use external data sources!)"
   ]
  },
  {
   "cell_type": "markdown",
   "metadata": {},
   "source": [
    "## Read the Data"
   ]
  },
  {
   "cell_type": "code",
   "execution_count": 4,
   "metadata": {
    "collapsed": false
   },
   "outputs": [],
   "source": [
    "san.data <- read.csv(\"assignment6/sanfrancisco_incidents_summer_2014.csv\")"
   ]
  },
  {
   "cell_type": "code",
   "execution_count": 7,
   "metadata": {
    "collapsed": false
   },
   "outputs": [],
   "source": [
    "seat.data <- read.csv(\"assignment6/seattle_incidents_summer_2014.csv\")"
   ]
  },
  {
   "cell_type": "code",
   "execution_count": 8,
   "metadata": {
    "collapsed": false
   },
   "outputs": [
    {
     "data": {
      "text/html": [
       "<table>\n",
       "<thead><tr><th></th><th scope=col>RMS.CDW.ID</th><th scope=col>General.Offense.Number</th><th scope=col>Offense.Code</th><th scope=col>Offense.Code.Extension</th><th scope=col>Offense.Type</th><th scope=col>Summary.Offense.Code</th><th scope=col>Summarized.Offense.Description</th><th scope=col>Date.Reported</th><th scope=col>Occurred.Date.or.Date.Range.Start</th><th scope=col>Occurred.Date.Range.End</th><th scope=col>Hundred.Block.Location</th><th scope=col>District.Sector</th><th scope=col>Zone.Beat</th><th scope=col>Census.Tract.2000</th><th scope=col>Longitude</th><th scope=col>Latitude</th><th scope=col>Location</th><th scope=col>Month</th><th scope=col>Year</th></tr></thead>\n",
       "<tbody>\n",
       "\t<tr><th scope=row>1</th><td>483839</td><td>2015218538</td><td>2202</td><td>0</td><td>BURGLARY-FORCE-RES</td><td>2200</td><td>BURGLARY</td><td>06/28/2015 10:31:00 AM</td><td>06/28/2014 10:31:00 AM</td><td>06/28/2015 10:31:00 AM</td><td>6XX BLOCK OF NW 74 ST</td><td>J</td><td>J2</td><td>2900.301</td><td>-122.3647</td><td>47.68252</td><td>(47.68252427, -122.364671996)</td><td>6</td><td>2014</td></tr>\n",
       "\t<tr><th scope=row>2</th><td>481252</td><td>2015213067</td><td>2610</td><td>0</td><td>FRAUD-IDENTITY THEFT</td><td>2600</td><td>FRAUD</td><td>06/24/2015 11:09:00 AM</td><td>06/01/2014 12:00:00 AM</td><td>06/24/2015 11:09:00 AM</td><td>23XX BLOCK OF 43 AV E</td><td>C</td><td>C2</td><td>6300.1</td><td>-122.2771</td><td>47.6399</td><td>(47.639900761, -122.277080248)</td><td>6</td><td>2014</td></tr>\n",
       "\t<tr><th scope=row>3</th><td>481375</td><td>2015210301</td><td>2316</td><td>0</td><td>THEFT-MAIL</td><td>2300</td><td>MAIL THEFT</td><td>06/22/2015 09:22:00 AM</td><td>08/31/2014 09:00:00 AM</td><td></td><td>81XX BLOCK OF 11 AV SW</td><td>F</td><td>F3</td><td>11300.5</td><td>-122.3493</td><td>47.52923</td><td>(47.529232299, -122.349312181)</td><td>8</td><td>2014</td></tr>\n",
       "\t<tr><th scope=row>4</th><td>481690</td><td>2015209327</td><td>2599</td><td>0</td><td>COUNTERFEIT</td><td>2500</td><td>COUNTERFEIT</td><td>06/21/2015 03:52:00 PM</td><td>06/20/2014 01:38:00 PM</td><td></td><td>6XX BLOCK OF PINE ST</td><td>M</td><td>M2</td><td>8200.1</td><td>-122.3348</td><td>47.61237</td><td>(47.612368448, -122.334817763)</td><td>6</td><td>2014</td></tr>\n",
       "\t<tr><th scope=row>5</th><td>478198</td><td>2015207880</td><td>2399</td><td>3</td><td>THEFT-OTH</td><td>2300</td><td>OTHER PROPERTY</td><td>06/20/2015 11:59:00 AM</td><td>06/01/2014 11:59:00 AM</td><td>11/01/2014 12:00:00 PM</td><td>77XX BLOCK OF SUNNYSIDE AV N</td><td>J</td><td>J3</td><td>2700.202</td><td>-122.3294</td><td>47.68596</td><td>(47.685959879, -122.329378505)</td><td>6</td><td>2014</td></tr>\n",
       "\t<tr><th scope=row>6</th><td>480485</td><td>2015904103</td><td>2308</td><td>0</td><td>THEFT-BUILDING</td><td>2300</td><td>OTHER PROPERTY</td><td>06/19/2015 02:55:00 PM</td><td>06/19/2014 02:45:00 PM</td><td>07/10/2014 02:45:00 PM</td><td>35XX BLOCK OF S FERDINAND ST</td><td>R</td><td>R3</td><td>10300.4</td><td>-122.2875</td><td>47.55785</td><td>(47.557854802, -122.287477902)</td><td>6</td><td>2014</td></tr>\n",
       "</tbody>\n",
       "</table>\n"
      ],
      "text/latex": [
       "\\begin{tabular}{r|lllllllllllllllllll}\n",
       "  & RMS.CDW.ID & General.Offense.Number & Offense.Code & Offense.Code.Extension & Offense.Type & Summary.Offense.Code & Summarized.Offense.Description & Date.Reported & Occurred.Date.or.Date.Range.Start & Occurred.Date.Range.End & Hundred.Block.Location & District.Sector & Zone.Beat & Census.Tract.2000 & Longitude & Latitude & Location & Month & Year\\\\\n",
       "\\hline\n",
       "\t1 & 483839 & 2015218538 & 2202 & 0 & BURGLARY-FORCE-RES & 2200 & BURGLARY & 06/28/2015 10:31:00 AM & 06/28/2014 10:31:00 AM & 06/28/2015 10:31:00 AM & 6XX BLOCK OF NW 74 ST & J & J2 & 2900.301 & -122.3647 & 47.68252 & (47.68252427, -122.364671996) & 6 & 2014\\\\\n",
       "\t2 & 481252 & 2015213067 & 2610 & 0 & FRAUD-IDENTITY THEFT & 2600 & FRAUD & 06/24/2015 11:09:00 AM & 06/01/2014 12:00:00 AM & 06/24/2015 11:09:00 AM & 23XX BLOCK OF 43 AV E & C & C2 & 6300.1 & -122.2771 & 47.6399 & (47.639900761, -122.277080248) & 6 & 2014\\\\\n",
       "\t3 & 481375 & 2015210301 & 2316 & 0 & THEFT-MAIL & 2300 & MAIL THEFT & 06/22/2015 09:22:00 AM & 08/31/2014 09:00:00 AM &  & 81XX BLOCK OF 11 AV SW & F & F3 & 11300.5 & -122.3493 & 47.52923 & (47.529232299, -122.349312181) & 8 & 2014\\\\\n",
       "\t4 & 481690 & 2015209327 & 2599 & 0 & COUNTERFEIT & 2500 & COUNTERFEIT & 06/21/2015 03:52:00 PM & 06/20/2014 01:38:00 PM &  & 6XX BLOCK OF PINE ST & M & M2 & 8200.1 & -122.3348 & 47.61237 & (47.612368448, -122.334817763) & 6 & 2014\\\\\n",
       "\t5 & 478198 & 2015207880 & 2399 & 3 & THEFT-OTH & 2300 & OTHER PROPERTY & 06/20/2015 11:59:00 AM & 06/01/2014 11:59:00 AM & 11/01/2014 12:00:00 PM & 77XX BLOCK OF SUNNYSIDE AV N & J & J3 & 2700.202 & -122.3294 & 47.68596 & (47.685959879, -122.329378505) & 6 & 2014\\\\\n",
       "\t6 & 480485 & 2015904103 & 2308 & 0 & THEFT-BUILDING & 2300 & OTHER PROPERTY & 06/19/2015 02:55:00 PM & 06/19/2014 02:45:00 PM & 07/10/2014 02:45:00 PM & 35XX BLOCK OF S FERDINAND ST & R & R3 & 10300.4 & -122.2875 & 47.55785 & (47.557854802, -122.287477902) & 6 & 2014\\\\\n",
       "\\end{tabular}\n"
      ],
      "text/plain": [
       "  RMS.CDW.ID General.Offense.Number Offense.Code Offense.Code.Extension\n",
       "1     483839             2015218538         2202                      0\n",
       "2     481252             2015213067         2610                      0\n",
       "3     481375             2015210301         2316                      0\n",
       "4     481690             2015209327         2599                      0\n",
       "5     478198             2015207880         2399                      3\n",
       "6     480485             2015904103         2308                      0\n",
       "          Offense.Type Summary.Offense.Code Summarized.Offense.Description\n",
       "1   BURGLARY-FORCE-RES                 2200                       BURGLARY\n",
       "2 FRAUD-IDENTITY THEFT                 2600                          FRAUD\n",
       "3           THEFT-MAIL                 2300                     MAIL THEFT\n",
       "4          COUNTERFEIT                 2500                    COUNTERFEIT\n",
       "5            THEFT-OTH                 2300                 OTHER PROPERTY\n",
       "6       THEFT-BUILDING                 2300                 OTHER PROPERTY\n",
       "           Date.Reported Occurred.Date.or.Date.Range.Start\n",
       "1 06/28/2015 10:31:00 AM            06/28/2014 10:31:00 AM\n",
       "2 06/24/2015 11:09:00 AM            06/01/2014 12:00:00 AM\n",
       "3 06/22/2015 09:22:00 AM            08/31/2014 09:00:00 AM\n",
       "4 06/21/2015 03:52:00 PM            06/20/2014 01:38:00 PM\n",
       "5 06/20/2015 11:59:00 AM            06/01/2014 11:59:00 AM\n",
       "6 06/19/2015 02:55:00 PM            06/19/2014 02:45:00 PM\n",
       "  Occurred.Date.Range.End       Hundred.Block.Location District.Sector\n",
       "1  06/28/2015 10:31:00 AM        6XX BLOCK OF NW 74 ST               J\n",
       "2  06/24/2015 11:09:00 AM        23XX BLOCK OF 43 AV E               C\n",
       "3                               81XX BLOCK OF 11 AV SW               F\n",
       "4                                 6XX BLOCK OF PINE ST               M\n",
       "5  11/01/2014 12:00:00 PM 77XX BLOCK OF SUNNYSIDE AV N               J\n",
       "6  07/10/2014 02:45:00 PM 35XX BLOCK OF S FERDINAND ST               R\n",
       "  Zone.Beat Census.Tract.2000 Longitude Latitude                       Location\n",
       "1        J2          2900.301 -122.3647 47.68252  (47.68252427, -122.364671996)\n",
       "2        C2          6300.100 -122.2771 47.63990 (47.639900761, -122.277080248)\n",
       "3        F3         11300.501 -122.3493 47.52923 (47.529232299, -122.349312181)\n",
       "4        M2          8200.100 -122.3348 47.61237 (47.612368448, -122.334817763)\n",
       "5        J3          2700.202 -122.3294 47.68596 (47.685959879, -122.329378505)\n",
       "6        R3         10300.401 -122.2875 47.55785 (47.557854802, -122.287477902)\n",
       "  Month Year\n",
       "1     6 2014\n",
       "2     6 2014\n",
       "3     8 2014\n",
       "4     6 2014\n",
       "5     6 2014\n",
       "6     6 2014"
      ]
     },
     "execution_count": 8,
     "metadata": {},
     "output_type": "execute_result"
    }
   ],
   "source": [
    "head(seat.data)"
   ]
  },
  {
   "cell_type": "code",
   "execution_count": 9,
   "metadata": {
    "collapsed": false
   },
   "outputs": [
    {
     "data": {
      "text/html": [
       "<table>\n",
       "<thead><tr><th></th><th scope=col>IncidntNum</th><th scope=col>Category</th><th scope=col>Descript</th><th scope=col>DayOfWeek</th><th scope=col>Date</th><th scope=col>Time</th><th scope=col>PdDistrict</th><th scope=col>Resolution</th><th scope=col>Address</th><th scope=col>X</th><th scope=col>Y</th><th scope=col>Location</th><th scope=col>PdId</th></tr></thead>\n",
       "<tbody>\n",
       "\t<tr><th scope=row>1</th><td>140734311</td><td>ARSON</td><td>ARSON OF A VEHICLE</td><td>Sunday</td><td>08/31/2014</td><td>23:50</td><td>BAYVIEW</td><td>NONE</td><td>LOOMIS ST / INDUSTRIAL ST</td><td>-122.4056</td><td>37.73832</td><td>(37.7383221869053, -122.405646994567)</td><td>1.407343e+13</td></tr>\n",
       "\t<tr><th scope=row>2</th><td>140736317</td><td>NON-CRIMINAL</td><td>LOST PROPERTY</td><td>Sunday</td><td>08/31/2014</td><td>23:45</td><td>MISSION</td><td>NONE</td><td>400 Block of CASTRO ST</td><td>-122.435</td><td>37.76177</td><td>(37.7617677182954, -122.435012093789)</td><td>1.407363e+13</td></tr>\n",
       "\t<tr><th scope=row>3</th><td>146177923</td><td>LARCENY/THEFT</td><td>GRAND THEFT FROM LOCKED AUTO</td><td>Sunday</td><td>08/31/2014</td><td>23:30</td><td>SOUTHERN</td><td>NONE</td><td>1000 Block of MISSION ST</td><td>-122.4098</td><td>37.78004</td><td>(37.7800356268394, -122.409795194505)</td><td>1.461779e+13</td></tr>\n",
       "\t<tr><th scope=row>4</th><td>146177531</td><td>LARCENY/THEFT</td><td>GRAND THEFT FROM LOCKED AUTO</td><td>Sunday</td><td>08/31/2014</td><td>23:30</td><td>RICHMOND</td><td>NONE</td><td>FULTON ST / 26TH AV</td><td>-122.4853</td><td>37.77252</td><td>(37.7725176473142, -122.485262988324)</td><td>1.461775e+13</td></tr>\n",
       "\t<tr><th scope=row>5</th><td>140734220</td><td>NON-CRIMINAL</td><td>FOUND PROPERTY</td><td>Sunday</td><td>08/31/2014</td><td>23:23</td><td>RICHMOND</td><td>NONE</td><td>800 Block of LA PLAYA ST</td><td>-122.5099</td><td>37.77231</td><td>(37.7723131976814, -122.509895418239)</td><td>1.407342e+13</td></tr>\n",
       "\t<tr><th scope=row>6</th><td>140734349</td><td>DRUG/NARCOTIC</td><td>POSSESSION OF MARIJUANA</td><td>Sunday</td><td>08/31/2014</td><td>23:13</td><td>SOUTHERN</td><td>ARREST, BOOKED</td><td>11TH ST / MINNA ST</td><td>-122.4166</td><td>37.77391</td><td>(37.773907074489, -122.416578493475)</td><td>1.407343e+13</td></tr>\n",
       "</tbody>\n",
       "</table>\n"
      ],
      "text/latex": [
       "\\begin{tabular}{r|lllllllllllll}\n",
       "  & IncidntNum & Category & Descript & DayOfWeek & Date & Time & PdDistrict & Resolution & Address & X & Y & Location & PdId\\\\\n",
       "\\hline\n",
       "\t1 & 140734311 & ARSON & ARSON OF A VEHICLE & Sunday & 08/31/2014 & 23:50 & BAYVIEW & NONE & LOOMIS ST / INDUSTRIAL ST & -122.4056 & 37.73832 & (37.7383221869053, -122.405646994567) & 1.407343e+13\\\\\n",
       "\t2 & 140736317 & NON-CRIMINAL & LOST PROPERTY & Sunday & 08/31/2014 & 23:45 & MISSION & NONE & 400 Block of CASTRO ST & -122.435 & 37.76177 & (37.7617677182954, -122.435012093789) & 1.407363e+13\\\\\n",
       "\t3 & 146177923 & LARCENY/THEFT & GRAND THEFT FROM LOCKED AUTO & Sunday & 08/31/2014 & 23:30 & SOUTHERN & NONE & 1000 Block of MISSION ST & -122.4098 & 37.78004 & (37.7800356268394, -122.409795194505) & 1.461779e+13\\\\\n",
       "\t4 & 146177531 & LARCENY/THEFT & GRAND THEFT FROM LOCKED AUTO & Sunday & 08/31/2014 & 23:30 & RICHMOND & NONE & FULTON ST / 26TH AV & -122.4853 & 37.77252 & (37.7725176473142, -122.485262988324) & 1.461775e+13\\\\\n",
       "\t5 & 140734220 & NON-CRIMINAL & FOUND PROPERTY & Sunday & 08/31/2014 & 23:23 & RICHMOND & NONE & 800 Block of LA PLAYA ST & -122.5099 & 37.77231 & (37.7723131976814, -122.509895418239) & 1.407342e+13\\\\\n",
       "\t6 & 140734349 & DRUG/NARCOTIC & POSSESSION OF MARIJUANA & Sunday & 08/31/2014 & 23:13 & SOUTHERN & ARREST, BOOKED & 11TH ST / MINNA ST & -122.4166 & 37.77391 & (37.773907074489, -122.416578493475) & 1.407343e+13\\\\\n",
       "\\end{tabular}\n"
      ],
      "text/plain": [
       "  IncidntNum      Category                     Descript DayOfWeek       Date\n",
       "1  140734311         ARSON           ARSON OF A VEHICLE    Sunday 08/31/2014\n",
       "2  140736317  NON-CRIMINAL                LOST PROPERTY    Sunday 08/31/2014\n",
       "3  146177923 LARCENY/THEFT GRAND THEFT FROM LOCKED AUTO    Sunday 08/31/2014\n",
       "4  146177531 LARCENY/THEFT GRAND THEFT FROM LOCKED AUTO    Sunday 08/31/2014\n",
       "5  140734220  NON-CRIMINAL               FOUND PROPERTY    Sunday 08/31/2014\n",
       "6  140734349 DRUG/NARCOTIC      POSSESSION OF MARIJUANA    Sunday 08/31/2014\n",
       "   Time PdDistrict     Resolution                   Address         X        Y\n",
       "1 23:50    BAYVIEW           NONE LOOMIS ST / INDUSTRIAL ST -122.4056 37.73832\n",
       "2 23:45    MISSION           NONE    400 Block of CASTRO ST -122.4350 37.76177\n",
       "3 23:30   SOUTHERN           NONE  1000 Block of MISSION ST -122.4098 37.78004\n",
       "4 23:30   RICHMOND           NONE       FULTON ST / 26TH AV -122.4853 37.77252\n",
       "5 23:23   RICHMOND           NONE  800 Block of LA PLAYA ST -122.5099 37.77231\n",
       "6 23:13   SOUTHERN ARREST, BOOKED        11TH ST / MINNA ST -122.4166 37.77391\n",
       "                               Location         PdId\n",
       "1 (37.7383221869053, -122.405646994567) 1.407343e+13\n",
       "2 (37.7617677182954, -122.435012093789) 1.407363e+13\n",
       "3 (37.7800356268394, -122.409795194505) 1.461779e+13\n",
       "4 (37.7725176473142, -122.485262988324) 1.461775e+13\n",
       "5 (37.7723131976814, -122.509895418239) 1.407342e+13\n",
       "6  (37.773907074489, -122.416578493475) 1.407343e+13"
      ]
     },
     "execution_count": 9,
     "metadata": {},
     "output_type": "execute_result"
    }
   ],
   "source": [
    "head(san.data)"
   ]
  },
  {
   "cell_type": "code",
   "execution_count": null,
   "metadata": {
    "collapsed": true
   },
   "outputs": [],
   "source": [
    "#For either city, how do incidents vary by time of day? Which incidents are most common in the evening? \n"
   ]
  }
 ],
 "metadata": {
  "kernelspec": {
   "display_name": "R",
   "language": "R",
   "name": "ir"
  },
  "language_info": {
   "codemirror_mode": "r",
   "file_extension": ".r",
   "mimetype": "text/x-r-source",
   "name": "R",
   "pygments_lexer": "r",
   "version": "3.2.2"
  }
 },
 "nbformat": 4,
 "nbformat_minor": 0
}
